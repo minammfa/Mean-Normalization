{
 "cells": [
  {
   "cell_type": "markdown",
   "metadata": {},
   "source": [
    "# Mean Normalization\n",
    "\n",
    "In machine learning we use large amounts of data to train our models. Some machine learning algorithms may require that the data is *normalized* in order to work correctly. The idea of normalization, also known as *feature scaling*, is to ensure that all the data is on a similar scale, *i.e.* that all the data takes on a similar range of values. For example, we might have a dataset that has values between 0 and 5,000. By normalizing the data we can make the range of values be between 0 and 1.\n",
    "\n",
    "In this lab, you will be performing a different kind of feature scaling known as *mean normalization*. Mean normalization will scale the data, but instead of making the values be between 0 and 1, it will distribute the values evenly in some small interval around zero. For example, if we have a dataset that has values between 0 and 5,000, after mean normalization the range of values will be distributed in some small range around 0, for example between -3 to 3. Because the range of values are distributed evenly around zero, this guarantees that the average (mean) of all elements will be zero. Therefore, when you perform *mean normalization* your data will not only be scaled but it will also have an average of zero. \n",
    "\n",
    "# To Do:\n",
    "\n",
    "You will start by importing NumPy and creating a rank 2 ndarray of random integers between 0 and 5,000 (inclusive) with 1000 rows and 20 columns. This array will simulate a dataset with a wide range of values. Fill in the code below"
   ]
  },
  {
   "cell_type": "code",
   "execution_count": 2,
   "metadata": {},
   "outputs": [
    {
     "name": "stdout",
     "output_type": "stream",
     "text": [
      "(1000, 20)\n"
     ]
    }
   ],
   "source": [
    "# import NumPy into Python\n",
    "import numpy as np\n",
    "\n",
    "# Create a 1000 x 20 ndarray with random integers in the half-open interval (0, 5001).\n",
    "X = np.random.randint(0, 5001, size=(1000, 20))\n",
    "\n",
    "# print the shape of X\n",
    "print(X.shape)"
   ]
  },
  {
   "cell_type": "markdown",
   "metadata": {},
   "source": [
    "Now that you created the array we will mean normalize it. We will perform mean normalization using the following equation:\n",
    "\n",
    "$\\text{Norm\\_Col}_i = \\frac{\\text{Col}_i - \\mu_i}{\\sigma_i}$\n",
    "\n",
    "where $\\mbox{Col}_i$ is the $i$th column of $X$, $\\mu_i$ is average of the values in the $i$th column of $X$, and $\\sigma_i$ is the standard deviation of the values in the $i$th column of $X$. In other words, mean normalization is performed by subtracting from each column of $X$ the average of its values, and then by dividing by the standard deviation of its values. In the space below, you will first calculate the average and standard deviation of each column of $X$. "
   ]
  },
  {
   "cell_type": "code",
   "execution_count": 4,
   "metadata": {},
   "outputs": [],
   "source": [
    "# Average of the values in each column of X\n",
    "ave_cols = np.mean(X, axis=0)\n",
    "\n",
    "# Standard Deviation of the values in each column of X\n",
    "std_cols = np.std(X, axis=0)"
   ]
  },
  {
   "cell_type": "markdown",
   "metadata": {},
   "source": [
    "If you have done the above calculations correctly, then `ave_cols` and `std_cols`, should both be vectors with shape `(20,)` since $X$ has 20 columns. You can verify this by filling the code below:"
   ]
  },
  {
   "cell_type": "code",
   "execution_count": 6,
   "metadata": {},
   "outputs": [
    {
     "name": "stdout",
     "output_type": "stream",
     "text": [
      "(20,)\n",
      "(20,)\n"
     ]
    }
   ],
   "source": [
    "# Print the shape of ave_cols\n",
    "print(ave_cols.shape)\n",
    "\n",
    "# Print the shape of std_cols\n",
    "print(std_cols.shape)"
   ]
  },
  {
   "cell_type": "markdown",
   "metadata": {},
   "source": [
    "You can now take advantage of Broadcasting to calculate the mean normalized version of $X$ in just one line of code using the equation above. Fill in the code below"
   ]
  },
  {
   "cell_type": "code",
   "execution_count": 8,
   "metadata": {},
   "outputs": [],
   "source": [
    "# Mean normalize X\n",
    "X_norm = (X - ave_cols) / std_cols"
   ]
  },
  {
   "cell_type": "markdown",
   "metadata": {},
   "source": [
    "If you have performed the mean normalization correctly, then the average of all the elements in $X_{\\tiny{\\mbox{norm}}}$ should be close to zero, and they should be evenly distributed in some small interval around zero. You can verify this by filing the code below:"
   ]
  },
  {
   "cell_type": "code",
   "execution_count": 10,
   "metadata": {},
   "outputs": [
    {
     "name": "stdout",
     "output_type": "stream",
     "text": [
      "Average of all values in X_norm: 1.6342482922482304e-17\n",
      "Average of the minimum value in each column of X_norm: -1.7302154083622387\n",
      "Average of the maximum value in each column of X_norm: 1.711715967513685\n"
     ]
    }
   ],
   "source": [
    "# Print the average of all the values of X_norm\n",
    "print(\"Average of all values in X_norm:\", np.mean(X_norm))\n",
    "\n",
    "# Print the average of the minimum value in each column of X_norm\n",
    "print(\"Average of the minimum value in each column of X_norm:\", np.mean(np.min(X_norm, axis=0)))\n",
    "\n",
    "# Print the average of the maximum value in each column of X_norm\n",
    "print(\"Average of the maximum value in each column of X_norm:\", np.mean(np.max(X_norm, axis=0)))"
   ]
  },
  {
   "cell_type": "markdown",
   "metadata": {},
   "source": [
    "You should note that since $X$ was created using random integers, the above values will vary. \n",
    "\n",
    "# Data Separation\n",
    "\n",
    "After the data has been mean normalized, it is customary in machine learnig to split our dataset into three sets:\n",
    "\n",
    "1. A Training Set\n",
    "2. A Cross Validation Set\n",
    "3. A Test Set\n",
    "\n",
    "The dataset is usually divided such that the Training Set contains 60% of the data, the Cross Validation Set contains 20% of the data, and the Test Set contains 20% of the data. \n",
    "\n",
    "In this part of the lab you will separate `X_norm` into a Training Set, Cross Validation Set, and a Test Set. Each data set will contain rows of `X_norm` chosen at random, making sure that we don't pick the same row twice. This will guarantee that all the rows of `X_norm` are chosen and randomly distributed among the three new sets.\n",
    "\n",
    "You will start by creating a rank 1 ndarray that contains a random permutation of the row indices of `X_norm`. You can do this by using the `np.random.permutation()` function. The `np.random.permutation(N)` function creates a random permutation of integers from 0 to `N - 1`. Let's see an example:"
   ]
  },
  {
   "cell_type": "code",
   "execution_count": 12,
   "metadata": {},
   "outputs": [
    {
     "data": {
      "text/plain": [
       "array([1, 2, 4, 0, 3])"
      ]
     },
     "execution_count": 12,
     "metadata": {},
     "output_type": "execute_result"
    }
   ],
   "source": [
    "# We create a random permutation of integers 0 to 4\n",
    "import numpy as np\n",
    "np.random.permutation(5)#like arange but not in order"
   ]
  },
  {
   "cell_type": "markdown",
   "metadata": {},
   "source": [
    "# To Do\n",
    "\n",
    "In the space below create a rank 1 ndarray that contains a random permutation of the row indices of `X_norm`. You can do this in one line of code by extracting the number of rows of `X_norm` using the `shape` attribute and then passing it to the  `np.random.permutation()` function. Remember the `shape` attribute returns a tuple with two numbers in the form `(rows,columns)`."
   ]
  },
  {
   "cell_type": "code",
   "execution_count": 14,
   "metadata": {},
   "outputs": [
    {
     "data": {
      "text/plain": [
       "array([443,  51, 516, 540, 681, 386, 624, 310, 432, 752, 907,  18, 601,\n",
       "       777, 160, 661, 152, 660,  35, 276,  95,  65,  76,   6, 494, 198,\n",
       "       359, 947, 357, 785, 724, 258, 742,  99, 331, 383, 747, 354, 174,\n",
       "       599, 517, 846, 765, 688, 336, 370, 674,  40, 407, 420, 727,  75,\n",
       "       187, 746, 671, 856, 884, 653, 766, 549, 129, 456, 257, 625,  54,\n",
       "       919, 755,  94, 586, 355, 306, 597, 911,  52, 158, 441, 672, 271,\n",
       "       497, 873, 719, 776, 932, 127, 715, 348, 991, 411, 655,  85, 633,\n",
       "       373, 936, 171, 960, 515,  50, 384, 888, 925, 330, 678, 803, 182,\n",
       "       538, 650, 481, 522, 874, 983, 781, 469, 535, 444,  53, 256, 711,\n",
       "       381, 635, 943, 415, 414, 638, 342, 402, 917,  34,  97, 942, 344,\n",
       "       322, 449,   9, 294, 866, 758, 274, 514, 311, 685, 952, 944, 963,\n",
       "       164, 646, 267, 501, 857, 805,  23, 893, 351, 246, 232, 433, 676,\n",
       "       861, 137, 796, 222, 872, 360,   4, 358, 242, 792, 570, 787, 144,\n",
       "       270, 684, 173, 718, 340, 656,  26, 921, 251, 541, 924, 283, 203,\n",
       "       780, 184, 488,  19, 615,  98, 489, 843,  29, 600,  22, 778, 153,\n",
       "       461, 833, 265, 212, 904, 649,  41,  61, 691, 749, 596, 141, 475,\n",
       "       906, 705, 961, 882, 356, 388, 686, 614, 550, 114, 482,  32, 116,\n",
       "       349, 629,  57, 437, 526, 235, 626, 120, 613, 569, 998, 908,  80,\n",
       "       885,  90, 632, 634,  11, 179, 371, 205, 372, 736, 138, 824,  13,\n",
       "       670, 228, 447, 984, 365, 155,  92, 683, 585, 132, 889, 367, 658,\n",
       "       712, 142, 887,  62, 782, 552, 819, 756, 816, 985, 682, 122, 524,\n",
       "       894, 297, 647, 419, 450, 459, 620, 957, 949, 436,   7,  68,  20,\n",
       "       408, 931, 555, 637, 143, 829,  46, 891, 130, 532, 471, 250, 201,\n",
       "       452, 726, 527, 627, 513, 836, 659, 886, 369, 702, 423, 307, 881,\n",
       "       754, 892, 783, 701, 722, 374, 131, 695, 350,  58, 156, 828, 990,\n",
       "       899, 446,  39, 929, 567, 939,  47, 435, 323, 734, 458, 848, 284,\n",
       "       247, 279, 862, 333, 520, 314, 743, 989, 427, 966, 997, 814, 278,\n",
       "       319, 237, 401, 506, 955, 409,  83, 731, 195, 839, 382, 720, 616,\n",
       "       145, 337, 603, 282, 397, 934, 529, 619,   1, 425, 642, 675, 291,\n",
       "       976,  48, 772, 737, 395, 623, 928, 826, 565, 842, 680, 316, 745,\n",
       "       255, 644, 487, 760, 472, 677, 958, 473, 478, 687, 699, 740,  59,\n",
       "       240, 564, 134, 630,  15, 994, 125, 611, 511, 953, 582, 571, 714,\n",
       "       788, 710, 902, 573, 580, 345, 220, 621, 631, 391, 289, 285, 106,\n",
       "       463, 581, 703, 523, 200, 806, 577, 296, 982, 665, 422, 838,  60,\n",
       "       808, 260, 764, 854, 221, 225, 786, 445, 815, 281, 197, 530, 376,\n",
       "       879, 900, 850, 865, 498, 980, 470, 858, 424, 363, 133, 689, 269,\n",
       "       566,  30, 708, 763, 485, 272, 574, 988, 877, 820, 172, 876, 112,\n",
       "       578, 150, 288, 301, 636, 293, 883, 509, 347, 178, 602, 177, 657,\n",
       "       169,  78, 926, 313, 930, 993,   8, 202, 302, 406, 211, 610, 548,\n",
       "       493, 303, 104, 305, 442,  38, 539, 968, 431, 304, 605, 622, 643,\n",
       "       403, 308, 542, 213, 434,  10, 216, 590, 483, 334, 864, 871, 405,\n",
       "       466, 140, 910, 880, 556, 995, 364, 400, 170, 217, 640, 234,  12,\n",
       "       543, 913,  21,  44, 612, 903,  66, 809, 593, 851, 739, 608, 139,\n",
       "       490, 837, 148, 244, 491, 204, 192, 166, 393, 774, 575,  28, 343,\n",
       "       793, 183,  55, 794, 362, 496, 591, 986, 105, 230, 987, 375, 287,\n",
       "       396, 823, 521, 117,  91, 860, 878, 977, 915, 741, 180, 109, 996,\n",
       "       519, 875,  89, 454, 798, 292, 273, 455, 956,  72, 476, 426, 118,\n",
       "       867, 551, 869, 503,  93, 692, 341, 546, 149, 554, 126, 594, 730,\n",
       "       329, 135, 480, 507,  87, 227, 562, 210, 759,  67, 299, 312, 339,\n",
       "       338, 249, 830, 465, 801, 598, 559, 981, 821,  63, 209, 300, 275,\n",
       "       779, 457, 757, 224, 725, 528, 448, 587, 385, 709, 870, 531, 797,\n",
       "       236, 604, 852, 219, 196, 146,  45, 733, 975, 321, 477, 584, 110,\n",
       "       252, 534,  69, 589, 753, 326,  37,  36, 167, 412, 361,   0, 770,\n",
       "        25, 802, 999, 453, 804, 694,  70, 992, 410,  64, 537, 845, 790,\n",
       "       735, 729, 128, 176, 859, 121, 773, 898, 812, 239, 811, 971,  81,\n",
       "       462, 807, 639, 136, 895, 295, 536, 193, 286, 855,  43, 654, 468,\n",
       "       713,  42, 946, 324, 460, 557, 102, 923, 668, 413, 238, 905, 115,\n",
       "       165, 841, 927, 277, 937, 325, 163, 392, 945, 706, 750, 664, 916,\n",
       "       560, 159,  88, 652, 547, 499, 119, 666, 208, 896, 533, 825, 832,\n",
       "       918, 241, 767, 868, 890, 959, 693,  73,   2, 215, 651, 254, 353,\n",
       "       969, 508, 645, 280, 972, 771, 151, 789, 965, 964,  31, 847, 416,\n",
       "       606, 751, 588, 974, 545, 245, 262, 940, 641, 263, 769, 346, 161,\n",
       "       377, 799, 479, 818, 191, 229, 440, 154, 108, 948, 544, 558, 233,\n",
       "        71, 327, 744, 912, 512, 775, 595, 696, 243, 417, 697,  24, 404,\n",
       "       827,  17, 492, 380, 510, 525, 226, 387, 721, 248, 922, 315, 728,\n",
       "       707, 328, 800, 464, 813, 486, 309, 186, 189, 500, 920, 607, 938,\n",
       "       576, 390, 973, 617, 662, 194, 368,  86, 366, 398,  96, 673, 185,\n",
       "       298, 418, 214, 962, 628, 970,   3, 162, 505, 784,  33, 332, 834,\n",
       "       429, 168, 690, 474, 901, 563, 967, 609, 954, 264, 157, 352,  56,\n",
       "       502, 378, 259, 849,  77, 100, 761, 111, 123, 568, 835,  74, 700,\n",
       "       268,  14, 199, 679, 810, 389, 266, 335, 748, 438, 317, 716, 421,\n",
       "        82, 768, 941, 762, 979, 844, 717, 190, 253,  27, 822, 103, 451,\n",
       "       579, 951, 817,  84, 663, 669, 572, 795, 618, 840,   5, 107, 853,\n",
       "       561, 318, 791, 181, 831, 518, 231, 218,  79, 495, 698, 206,  16,\n",
       "       704, 732, 394, 430, 101, 933, 648, 909, 113, 484, 863, 553, 290,\n",
       "       978, 207, 188, 223, 935, 124, 379, 504,  49, 320, 583, 723, 428,\n",
       "       467, 592, 950, 399, 261, 439, 897, 914, 738, 175, 667, 147])"
      ]
     },
     "execution_count": 14,
     "metadata": {},
     "output_type": "execute_result"
    }
   ],
   "source": [
    "# Create a rank 1 ndarray that contains a random permutation of the row indices of `X_norm`\n",
    "row_indices =np.random.permutation(1000)#numbers from 0 to 999 not in order\n",
    "row_indices"
   ]
  },
  {
   "cell_type": "markdown",
   "metadata": {},
   "source": [
    "Now you can create the three datasets using the `row_indices` ndarray to select the rows that will go into each dataset. Rememeber that the Training Set contains 60% of the data, the Cross Validation Set contains 20% of the data, and the Test Set contains 20% of the data. Each set requires just one line of code to create. Fill in the code below"
   ]
  },
  {
   "cell_type": "code",
   "execution_count": 16,
   "metadata": {},
   "outputs": [],
   "source": [
    "# Make any necessary calculations.\n",
    "num_rows = X_norm.shape[0]\n",
    "\n",
    "# You can save your calculations into variables to use later.\n",
    "\n",
    "# Calculate the number of rows for each set\n",
    "train_size = int(0.6 * num_rows)  # 60% of the rows\n",
    "cv_size = int(0.2 * num_rows)     # 20% of the rows\n",
    "test_size = int(0.2 * num_rows)  # 20% of the rows\n",
    "\n",
    "# Split the indices into three sets\n",
    "train_indices = row_indices[:train_size]\n",
    "cv_indices = row_indices[train_size:train_size + cv_size]\n",
    "test_indices = row_indices[train_size + cv_size:]\n",
    "\n",
    "# Create a Training Set\n",
    "X_train = X_norm[train_indices, :]\n",
    "\n",
    "# Create a Cross Validation Set\n",
    "X_crossVal = X_norm[cv_indices, :]\n",
    "\n",
    "# Create a Test Set\n",
    "X_test = X_norm[test_indices, :]"
   ]
  },
  {
   "cell_type": "markdown",
   "metadata": {},
   "source": [
    "If you performed the above calculations correctly, then `X_tain` should have 600 rows and 20 columns, `X_crossVal` should have 200 rows and 20 columns, and `X_test` should have 200 rows and 20 columns. You can verify this by filling the code below:"
   ]
  },
  {
   "cell_type": "code",
   "execution_count": 18,
   "metadata": {},
   "outputs": [
    {
     "name": "stdout",
     "output_type": "stream",
     "text": [
      "Shape of X_train: (600, 20)\n",
      "Shape of X_crossVal: (200, 20)\n",
      "Shape of X_test: (200, 20)\n"
     ]
    }
   ],
   "source": [
    "# Print the shapes of the resulting sets to verify the split\n",
    "\n",
    "# Print the shape of X_train\n",
    "print(\"Shape of X_train:\", X_train.shape)\n",
    "\n",
    "# Print the shape of X_crossVal\n",
    "print(\"Shape of X_crossVal:\", X_crossVal.shape)\n",
    "\n",
    "# Print the shape of X_test\n",
    "print(\"Shape of X_test:\", X_test.shape)"
   ]
  },
  {
   "cell_type": "code",
   "execution_count": null,
   "metadata": {},
   "outputs": [],
   "source": []
  }
 ],
 "metadata": {
  "kernelspec": {
   "display_name": "Python 3 (ipykernel)",
   "language": "python",
   "name": "python3"
  },
  "language_info": {
   "codemirror_mode": {
    "name": "ipython",
    "version": 3
   },
   "file_extension": ".py",
   "mimetype": "text/x-python",
   "name": "python",
   "nbconvert_exporter": "python",
   "pygments_lexer": "ipython3",
   "version": "3.12.4"
  }
 },
 "nbformat": 4,
 "nbformat_minor": 4
}
